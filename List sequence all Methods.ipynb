{
 "cells": [
  {
   "cell_type": "code",
   "execution_count": 1,
   "id": "b124f2f5-ed42-4ea6-8d15-b67163f6fef4",
   "metadata": {},
   "outputs": [
    {
     "name": "stdout",
     "output_type": "stream",
     "text": [
      "['banana', 'apple', 'cherry']\n"
     ]
    }
   ],
   "source": [
    "# Declaration of List\n",
    "fruits = [\"banana\" , \"apple\" , \"cherry\"]\n",
    "print(fruits)"
   ]
  },
  {
   "cell_type": "code",
   "execution_count": 3,
   "id": "5e0617d0-a496-40f5-b9c3-473ca54380bb",
   "metadata": {},
   "outputs": [
    {
     "name": "stdout",
     "output_type": "stream",
     "text": [
      "['banana', 'apple', 'cherry', 'kiwi']\n"
     ]
    }
   ],
   "source": [
    "# append() is Used for adding elements to the end of the List. \n",
    "fruits = [\"banana\" , \"apple\" , \"cherry\"]\n",
    "fruits.append(\"kiwi\")\n",
    "print(fruits)"
   ]
  },
  {
   "cell_type": "code",
   "execution_count": 3,
   "id": "08a87330-0d69-4b8d-bc2f-79069e7463b7",
   "metadata": {},
   "outputs": [
    {
     "name": "stdout",
     "output_type": "stream",
     "text": [
      "['banana', 'apple', 'cherry']\n"
     ]
    }
   ],
   "source": [
    "# copy() is Used for creating a copy of the list. \n",
    "fruits = [\"banana\" , \"apple\" , \"cherry\"]\n",
    "x = fruits.copy()\n",
    "print(x)"
   ]
  },
  {
   "cell_type": "code",
   "execution_count": 3,
   "id": "a1de2a6f-b547-4209-b6ba-a72d13a057b7",
   "metadata": {},
   "outputs": [
    {
     "name": "stdout",
     "output_type": "stream",
     "text": [
      "[]\n"
     ]
    }
   ],
   "source": [
    "# clear() is used to vipe out all the elements in the list.\n",
    "fruits = [\"banana\" , \"apple\" , \"cherry\"]\n",
    "fruits.clear()\n",
    "print(fruits)"
   ]
  },
  {
   "cell_type": "code",
   "execution_count": 5,
   "id": "08891034-6d6b-404f-bf14-bdc83214269b",
   "metadata": {},
   "outputs": [
    {
     "name": "stdout",
     "output_type": "stream",
     "text": [
      "2\n",
      "1\n"
     ]
    }
   ],
   "source": [
    "#count() These methods count number of times the elements is present in list.\n",
    "fruits = [\"banana\" , \"apple\" , \"cherry\" , \"apple\"]\n",
    "x = fruits.count(\"apple\")\n",
    "y = fruits.count(\"cherry\")\n",
    "print(x)\n",
    "print(y)"
   ]
  },
  {
   "cell_type": "code",
   "execution_count": 2,
   "id": "6b563765-9bdf-4472-8f20-e0823550dcec",
   "metadata": {},
   "outputs": [
    {
     "name": "stdout",
     "output_type": "stream",
     "text": [
      "['banana', 'apple', 'cherry', 'kiwi', 'ladyfinger', 'potato', 'onion', 'spinach']\n"
     ]
    }
   ],
   "source": [
    "#extend() is used to place one list in front of other list.\n",
    "fruits = [\"banana\" , \"apple\" , \"cherry\" , \"kiwi\"]\n",
    "vegetable = [\"ladyfinger\" , \"potato\" , \"onion\" , \"spinach\"]\n",
    "fruits.extend(vegetable)\n",
    "print(fruits)"
   ]
  },
  {
   "cell_type": "code",
   "execution_count": 3,
   "id": "1a2d8226-bdbd-4e0e-8c23-db6e7157dca0",
   "metadata": {},
   "outputs": [
    {
     "name": "stdout",
     "output_type": "stream",
     "text": [
      "1\n"
     ]
    }
   ],
   "source": [
    "#index() returs the index of the first time the values apper\n",
    "fruits = [\"banana\" , \"apple\" , \"cherry\" , \"apple\"]\n",
    "x = fruits.index(\"apple\")\n",
    "print(x)"
   ]
  },
  {
   "cell_type": "code",
   "execution_count": 3,
   "id": "5f1ea8e3-b86b-467b-a3e8-cf843dcf76bb",
   "metadata": {},
   "outputs": [
    {
     "name": "stdout",
     "output_type": "stream",
     "text": [
      "['banana', 'apple', 'cherry', 'kiwi']\n"
     ]
    }
   ],
   "source": [
    "#insert() insert an element in the list at the given index\n",
    "fruits = [\"banana\" , \"apple\" , \"cherry\"]\n",
    "fruits.insert(3 , \"kiwi\")\n",
    "print(fruits)"
   ]
  },
  {
   "cell_type": "code",
   "execution_count": 4,
   "id": "0b2b6182-2620-4aa2-b71a-c4a61ba37e98",
   "metadata": {},
   "outputs": [
    {
     "name": "stdout",
     "output_type": "stream",
     "text": [
      "['banana', 'apple', 'cherry']\n"
     ]
    }
   ],
   "source": [
    "#pop() Removes and returns the last value from the List or the given index value.\n",
    "fruits = ['banana', 'apple', 'cherry', 'kiwi']\n",
    "fruits.pop()\n",
    "print(fruits)"
   ]
  },
  {
   "cell_type": "code",
   "execution_count": 1,
   "id": "79d0b69e-686f-41dc-a309-77acd3336d90",
   "metadata": {},
   "outputs": [
    {
     "name": "stdout",
     "output_type": "stream",
     "text": [
      "['banana', 'apple', 'cherry']\n"
     ]
    }
   ],
   "source": [
    "#remove() Removes a given object from the List. \n",
    "fruits = ['banana', 'apple', 'cherry', 'kiwi']\n",
    "fruits.remove(\"kiwi\")\n",
    "print(fruits)"
   ]
  },
  {
   "cell_type": "code",
   "execution_count": 2,
   "id": "21a1cb5c-8bbd-4ab8-a901-06bf20d282a0",
   "metadata": {},
   "outputs": [
    {
     "name": "stdout",
     "output_type": "stream",
     "text": [
      "['kiwi', 'cherry', 'apple', 'banana']\n"
     ]
    }
   ],
   "source": [
    "#reverse() Reverses objects of the List in place.. \n",
    "fruits = ['banana', 'apple', 'cherry', 'kiwi']\n",
    "fruits.reverse()\n",
    "print(fruits)"
   ]
  },
  {
   "cell_type": "code",
   "execution_count": 1,
   "id": "0d5655e2-3b32-46ca-81de-ae5437ccd1fe",
   "metadata": {},
   "outputs": [
    {
     "name": "stdout",
     "output_type": "stream",
     "text": [
      "[3, 5, 6, 8, 9]\n"
     ]
    }
   ],
   "source": [
    "#sort() Sorts a List in ascending, descending, or user-defined order\n",
    "numbers = [5 , 8 , 3 , 6 , 9]\n",
    "numbers.sort()\n",
    "print(numbers)"
   ]
  }
 ],
 "metadata": {
  "kernelspec": {
   "display_name": "Python 3 (ipykernel)",
   "language": "python",
   "name": "python3"
  },
  "language_info": {
   "codemirror_mode": {
    "name": "ipython",
    "version": 3
   },
   "file_extension": ".py",
   "mimetype": "text/x-python",
   "name": "python",
   "nbconvert_exporter": "python",
   "pygments_lexer": "ipython3",
   "version": "3.12.4"
  }
 },
 "nbformat": 4,
 "nbformat_minor": 5
}
