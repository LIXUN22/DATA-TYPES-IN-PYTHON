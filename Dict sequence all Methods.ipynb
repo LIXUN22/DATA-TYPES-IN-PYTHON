{
 "cells": [
  {
   "cell_type": "code",
   "execution_count": 1,
   "id": "d1c1e1a7-1e23-4e57-8f21-9ecb7698bb8b",
   "metadata": {},
   "outputs": [
    {
     "name": "stdout",
     "output_type": "stream",
     "text": [
      "{1: 'banana', 2: 'apple', 3: 'cherry'}\n"
     ]
    }
   ],
   "source": [
    "# Declaration of Dictionary\n",
    "fruits = {1: 'banana', 2: 'apple', 3: 'cherry'}\n",
    "print(fruits)"
   ]
  },
  {
   "cell_type": "code",
   "execution_count": 2,
   "id": "d2c1e2a8-2e34-4e68-9f32-1e8b7699cc9c",
   "metadata": {},
   "outputs": [
    {
     "name": "stdout",
     "output_type": "stream",
     "text": [
      "{}\n"
     ]
    }
   ],
   "source": [
    "# clear() Removes all items from the dictionary\n",
    "fruits.clear()\n",
    "print(fruits)"
   ]
  },
  {
   "cell_type": "code",
   "execution_count": 3,
   "id": "d3c2e3a9-3e45-4e79-af43-2e9c769adcc9",
   "metadata": {},
   "outputs": [
    {
     "name": "stdout",
     "output_type": "stream",
     "text": [
      "{1: 'banana', 2: 'apple', 3: 'cherry'}\n"
     ]
    }
   ],
   "source": [
    "# copy() Returns a copy of the dictionary\n",
    "fruits = {1: 'banana', 2: 'apple', 3: 'cherry'}\n",
    "x = fruits.copy()\n",
    "print(x)"
   ]
  },
  {
   "cell_type": "code",
   "execution_count": 4,
   "id": "d4c3e4aa-4e56-4e8a-bf54-3e0d769bdcc9",
   "metadata": {},
   "outputs": [
    {
     "name": "stdout",
     "output_type": "stream",
     "text": [
      "banana\n"
     ]
    }
   ],
   "source": [
    "# get() Returns the value of the specified key\n",
    "fruits = {1: 'banana', 2: 'apple', 3: 'cherry'}\n",
    "print(fruits.get(1))"
   ]
  },
  {
   "cell_type": "code",
   "execution_count": 5,
   "id": "d5c4e5ab-5e67-4e9b-bf65-4e1e769cdcc9",
   "metadata": {},
   "outputs": [
    {
     "name": "stdout",
     "output_type": "stream",
     "text": [
      "True\n"
     ]
    }
   ],
   "source": [
    "# in keyword to check if a key exists in the dictionary\n",
    "fruits = {1: 'banana', 2: 'apple', 3: 'cherry'}\n",
    "print(1 in fruits)"
   ]
  },
  {
   "cell_type": "code",
   "execution_count": 6,
   "id": "d6c5e6ac-6e78-4eab-cf76-5e2e769edcc9",
   "metadata": {},
   "outputs": [
    {
     "name": "stdout",
     "output_type": "stream",
     "text": [
      "dict_items([(1, 'banana'), (2, 'apple'), (3, 'cherry')])\n"
     ]
    }
   ],
   "source": [
    "# items() Returns a list containing a tuple for each key-value pair\n",
    "fruits = {1: 'banana', 2: 'apple', 3: 'cherry'}\n",
    "print(fruits.items())"
   ]
  },
  {
   "cell_type": "code",
   "execution_count": 7,
   "id": "d7c6e7ad-7e89-4ebc-df87-6e3e76a0ecc9",
   "metadata": {},
   "outputs": [
    {
     "name": "stdout",
     "output_type": "stream",
     "text": [
      "dict_keys([1, 2, 3])\n"
     ]
    }
   ],
   "source": [
    "# keys() Returns a list containing the dictionary's keys\n",
    "fruits = {1: 'banana', 2: 'apple', 3: 'cherry'}\n",
    "print(fruits.keys())"
   ]
  },
  {
   "cell_type": "code",
   "execution_count": 8,
   "id": "d8c7e8ae-8e9a-4fbc-ef98-7e4e76b1fcc9",
   "metadata": {},
   "outputs": [
    {
     "name": "stdout",
     "output_type": "stream",
     "text": [
      "{1: 'banana', 2: 'apple', 3: 'cherry', 4: 'orange'}\n"
     ]
    }
   ],
   "source": [
    "# setdefault() Returns the value of the specified key. If the key does not exist, insert the key, with the specified value\n",
    "fruits = {1: 'banana', 2: 'apple', 3: 'cherry'}\n",
    "fruits.setdefault(4, 'orange')\n",
    "print(fruits)"
   ]
  },
  {
   "cell_type": "code",
   "execution_count": 9,
   "id": "d9c8e9af-9eab-5fcd-fg09-8e5e76c2gcc9",
   "metadata": {},
   "outputs": [
    {
     "name": "stdout",
     "output_type": "stream",
     "text": [
      "orange\n"
     ]
    }
   ],
   "source": [
    "# setdefault() When key exists\n",
    "fruits = {1: 'banana', 2: 'apple', 3: 'cherry'}\n",
    "print(fruits.setdefault(2, 'orange'))"
   ]
  },
  {
   "cell_type": "code",
   "execution_count": 10,
   "id": "dac9eab0-afbc-6gdf-gh10-9e6e76d3hcc9",
   "metadata": {},
   "outputs": [
    {
     "name": "stdout",
     "output_type": "stream",
     "text": [
      "apple\n"
     ]
    }
   ],
   "source": [
    "# pop() Removes the element with the specified key\n",
    "fruits = {1: 'banana', 2: 'apple', 3: 'cherry'}\n",
    "print(fruits.pop(2))"
   ]
  },
  {
   "cell_type": "code",
   "execution_count": 11,
   "id": "dbcaebc1-bfcd-7hef-hj21-0e7e76e4icc9",
   "metadata": {},
   "outputs": [
    {
     "name": "stdout",
     "output_type": "stream",
     "text": [
      "{1: 'banana', 3: 'cherry'}\n"
     ]
    }
   ],
   "source": [
    "# pop() After removing key\n",
    "print(fruits)"
   ]
  },
  {
   "cell_type": "code",
   "execution_count": 12,
   "id": "dccbfcf2-cgde-8igf-ik32-1e8e76f5jcc9",
   "metadata": {},
   "outputs": [
    {
     "name": "stdout",
     "output_type": "stream",
     "text": [
      "('cherry', 3)\n"
     ]
    }
   ],
   "source": [
    "# popitem() Removes the last inserted key-value pair\n",
    "fruits = {1: 'banana', 2: 'apple', 3: 'cherry'}\n",
    "print(fruits.popitem())"
   ]
  },
  {
   "cell_type": "code",
   "execution_count": 13,
   "id": "ddccfdf3-dhfg-9jgf-jk43-2e9e76g6kcc9",
   "metadata": {},
   "outputs": [
    {
     "name": "stdout",
     "output_type": "stream",
     "text": [
      "{1: 'banana', 2: 'apple'}\n"
     ]
    }
   ],
   "source": [
    "# popitem() After removing last item\n",
    "print(fruits)"
   ]
  },
  {
   "cell_type": "code",
   "execution_count": 14,
   "id": "decdgdf4-eigf-ajhf-kl54-3e0e76h7lcc9",
   "metadata": {},
   "outputs": [
    {
     "name": "stdout",
     "output_type": "stream",
     "text": [
      "{1: 'banana', 2: 'apple', 3: 'cherry', 4: 'orange'}\n"
     ]
    }
   ],
   "source": [
    "# update() Updates the dictionary with the specified key-value pairs\n",
    "fruits = {1: 'banana', 2: 'apple', 3: 'cherry'}\n",
    "fruits.update({4: 'orange'})\n",
    "print(fruits)"
   ]
  },
  {
   "cell_type": "code",
   "execution_count": 15,
   "id": "dfcehef5-fjgh-bkhg-lm65-4e1e76i8mcc9",
   "metadata": {},
   "outputs": [
    {
     "name": "stdout",
     "output_type": "stream",
     "text": [
      "{1: 'banana', 2: 'apple', 3: 'cherry'}\n"
     ]
    }
   ],
   "source": [
    "# values() Returns a list of all the values in the dictionary\n",
    "fruits = {1: 'banana', 2: 'apple', 3: 'cherry'}\n",
    "print(fruits.values())"
   ]
  }
 ],
 "metadata": {
  "kernelspec": {
   "display_name": "Python 3 (ipykernel)",
   "language": "python",
   "name": "python3"
  },
  "language_info": {
   "codemirror_mode": {
    "name": "ipython",
    "version": 3
   },
   "file_extension": ".py",
   "mimetype": "text/x-python",
   "name": "python",
   "nbconvert_exporter": "python",
   "pygments_lexer": "ipython3",
   "version": "3.12.4"
  }
 },
 "nbformat": 4,
 "nbformat_minor": 5
}
